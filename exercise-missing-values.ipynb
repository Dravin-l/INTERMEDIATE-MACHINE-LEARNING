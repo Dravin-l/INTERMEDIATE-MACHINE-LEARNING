{
 "cells": [
  {
   "cell_type": "markdown",
   "id": "87d8f418",
   "metadata": {
    "papermill": {
     "duration": 0.013971,
     "end_time": "2023-07-14T09:02:10.254603",
     "exception": false,
     "start_time": "2023-07-14T09:02:10.240632",
     "status": "completed"
    },
    "tags": []
   },
   "source": [
    "**This notebook is an exercise in the [Intermediate Machine Learning](https://www.kaggle.com/learn/intermediate-machine-learning) course.  You can reference the tutorial at [this link](https://www.kaggle.com/alexisbcook/missing-values).**\n",
    "\n",
    "---\n"
   ]
  },
  {
   "cell_type": "markdown",
   "id": "b37e9292",
   "metadata": {
    "papermill": {
     "duration": 0.011431,
     "end_time": "2023-07-14T09:02:10.277781",
     "exception": false,
     "start_time": "2023-07-14T09:02:10.266350",
     "status": "completed"
    },
    "tags": []
   },
   "source": [
    "Now it's your turn to test your new knowledge of **missing values** handling. You'll probably find it makes a big difference.\n",
    "\n",
    "# Setup\n",
    "\n",
    "The questions will give you feedback on your work. Run the following cell to set up the feedback system."
   ]
  },
  {
   "cell_type": "code",
   "execution_count": 1,
   "id": "308f7f39",
   "metadata": {
    "execution": {
     "iopub.execute_input": "2023-07-14T09:02:10.304020Z",
     "iopub.status.busy": "2023-07-14T09:02:10.303272Z",
     "iopub.status.idle": "2023-07-14T09:02:10.349739Z",
     "shell.execute_reply": "2023-07-14T09:02:10.348905Z"
    },
    "papermill": {
     "duration": 0.061959,
     "end_time": "2023-07-14T09:02:10.352250",
     "exception": false,
     "start_time": "2023-07-14T09:02:10.290291",
     "status": "completed"
    },
    "tags": []
   },
   "outputs": [
    {
     "name": "stdout",
     "output_type": "stream",
     "text": [
      "Setup Complete\n"
     ]
    }
   ],
   "source": [
    "# Set up code checking\n",
    "import os\n",
    "if not os.path.exists(\"../input/train.csv\"):\n",
    "    os.symlink(\"../input/home-data-for-ml-course/train.csv\", \"../input/train.csv\")  \n",
    "    os.symlink(\"../input/home-data-for-ml-course/test.csv\", \"../input/test.csv\") \n",
    "from learntools.core import binder\n",
    "binder.bind(globals())\n",
    "from learntools.ml_intermediate.ex2 import *\n",
    "print(\"Setup Complete\")"
   ]
  },
  {
   "cell_type": "markdown",
   "id": "dcc712ce",
   "metadata": {
    "papermill": {
     "duration": 0.011757,
     "end_time": "2023-07-14T09:02:10.375599",
     "exception": false,
     "start_time": "2023-07-14T09:02:10.363842",
     "status": "completed"
    },
    "tags": []
   },
   "source": [
    "In this exercise, you will work with data from the [Housing Prices Competition for Kaggle Learn Users](https://www.kaggle.com/c/home-data-for-ml-course). \n",
    "\n",
    "![Ames Housing dataset image](https://storage.googleapis.com/kaggle-media/learn/images/lTJVG4e.png)\n",
    "\n",
    "Run the next code cell without changes to load the training and validation sets in `X_train`, `X_valid`, `y_train`, and `y_valid`.  The test set is loaded in `X_test`."
   ]
  },
  {
   "cell_type": "code",
   "execution_count": 2,
   "id": "3fc88597",
   "metadata": {
    "execution": {
     "iopub.execute_input": "2023-07-14T09:02:10.400854Z",
     "iopub.status.busy": "2023-07-14T09:02:10.399945Z",
     "iopub.status.idle": "2023-07-14T09:02:11.794755Z",
     "shell.execute_reply": "2023-07-14T09:02:11.793878Z"
    },
    "papermill": {
     "duration": 1.410069,
     "end_time": "2023-07-14T09:02:11.797384",
     "exception": false,
     "start_time": "2023-07-14T09:02:10.387315",
     "status": "completed"
    },
    "tags": []
   },
   "outputs": [
    {
     "name": "stderr",
     "output_type": "stream",
     "text": [
      "/opt/conda/lib/python3.10/site-packages/scipy/__init__.py:146: UserWarning: A NumPy version >=1.16.5 and <1.23.0 is required for this version of SciPy (detected version 1.23.5\n",
      "  warnings.warn(f\"A NumPy version >={np_minversion} and <{np_maxversion}\"\n"
     ]
    }
   ],
   "source": [
    "import pandas as pd\n",
    "from sklearn.model_selection import train_test_split\n",
    "\n",
    "# Read the data\n",
    "X_full = pd.read_csv('../input/train.csv', index_col='Id')\n",
    "X_test_full = pd.read_csv('../input/test.csv', index_col='Id')\n",
    "\n",
    "# Remove rows with missing target, separate target from predictors\n",
    "X_full.dropna(axis=0, subset=['SalePrice'], inplace=True)\n",
    "y = X_full.SalePrice\n",
    "X_full.drop(['SalePrice'], axis=1, inplace=True)\n",
    "\n",
    "# To keep things simple, we'll use only numerical predictors\n",
    "X = X_full.select_dtypes(exclude=['object'])\n",
    "X_test = X_test_full.select_dtypes(exclude=['object'])\n",
    "\n",
    "# Break off validation set from training data\n",
    "X_train, X_valid, y_train, y_valid = train_test_split(X, y, train_size=0.8, test_size=0.2,\n",
    "                                                      random_state=0)"
   ]
  },
  {
   "cell_type": "markdown",
   "id": "423d2fcb",
   "metadata": {
    "papermill": {
     "duration": 0.011488,
     "end_time": "2023-07-14T09:02:11.820831",
     "exception": false,
     "start_time": "2023-07-14T09:02:11.809343",
     "status": "completed"
    },
    "tags": []
   },
   "source": [
    "Use the next code cell to print the first five rows of the data."
   ]
  },
  {
   "cell_type": "code",
   "execution_count": 3,
   "id": "bdc27ddd",
   "metadata": {
    "execution": {
     "iopub.execute_input": "2023-07-14T09:02:11.846884Z",
     "iopub.status.busy": "2023-07-14T09:02:11.846126Z",
     "iopub.status.idle": "2023-07-14T09:02:11.874256Z",
     "shell.execute_reply": "2023-07-14T09:02:11.873058Z"
    },
    "papermill": {
     "duration": 0.044223,
     "end_time": "2023-07-14T09:02:11.877037",
     "exception": false,
     "start_time": "2023-07-14T09:02:11.832814",
     "status": "completed"
    },
    "tags": []
   },
   "outputs": [
    {
     "data": {
      "text/html": [
       "<div>\n",
       "<style scoped>\n",
       "    .dataframe tbody tr th:only-of-type {\n",
       "        vertical-align: middle;\n",
       "    }\n",
       "\n",
       "    .dataframe tbody tr th {\n",
       "        vertical-align: top;\n",
       "    }\n",
       "\n",
       "    .dataframe thead th {\n",
       "        text-align: right;\n",
       "    }\n",
       "</style>\n",
       "<table border=\"1\" class=\"dataframe\">\n",
       "  <thead>\n",
       "    <tr style=\"text-align: right;\">\n",
       "      <th></th>\n",
       "      <th>MSSubClass</th>\n",
       "      <th>LotFrontage</th>\n",
       "      <th>LotArea</th>\n",
       "      <th>OverallQual</th>\n",
       "      <th>OverallCond</th>\n",
       "      <th>YearBuilt</th>\n",
       "      <th>YearRemodAdd</th>\n",
       "      <th>MasVnrArea</th>\n",
       "      <th>BsmtFinSF1</th>\n",
       "      <th>BsmtFinSF2</th>\n",
       "      <th>...</th>\n",
       "      <th>GarageArea</th>\n",
       "      <th>WoodDeckSF</th>\n",
       "      <th>OpenPorchSF</th>\n",
       "      <th>EnclosedPorch</th>\n",
       "      <th>3SsnPorch</th>\n",
       "      <th>ScreenPorch</th>\n",
       "      <th>PoolArea</th>\n",
       "      <th>MiscVal</th>\n",
       "      <th>MoSold</th>\n",
       "      <th>YrSold</th>\n",
       "    </tr>\n",
       "    <tr>\n",
       "      <th>Id</th>\n",
       "      <th></th>\n",
       "      <th></th>\n",
       "      <th></th>\n",
       "      <th></th>\n",
       "      <th></th>\n",
       "      <th></th>\n",
       "      <th></th>\n",
       "      <th></th>\n",
       "      <th></th>\n",
       "      <th></th>\n",
       "      <th></th>\n",
       "      <th></th>\n",
       "      <th></th>\n",
       "      <th></th>\n",
       "      <th></th>\n",
       "      <th></th>\n",
       "      <th></th>\n",
       "      <th></th>\n",
       "      <th></th>\n",
       "      <th></th>\n",
       "      <th></th>\n",
       "    </tr>\n",
       "  </thead>\n",
       "  <tbody>\n",
       "    <tr>\n",
       "      <th>619</th>\n",
       "      <td>20</td>\n",
       "      <td>90.0</td>\n",
       "      <td>11694</td>\n",
       "      <td>9</td>\n",
       "      <td>5</td>\n",
       "      <td>2007</td>\n",
       "      <td>2007</td>\n",
       "      <td>452.0</td>\n",
       "      <td>48</td>\n",
       "      <td>0</td>\n",
       "      <td>...</td>\n",
       "      <td>774</td>\n",
       "      <td>0</td>\n",
       "      <td>108</td>\n",
       "      <td>0</td>\n",
       "      <td>0</td>\n",
       "      <td>260</td>\n",
       "      <td>0</td>\n",
       "      <td>0</td>\n",
       "      <td>7</td>\n",
       "      <td>2007</td>\n",
       "    </tr>\n",
       "    <tr>\n",
       "      <th>871</th>\n",
       "      <td>20</td>\n",
       "      <td>60.0</td>\n",
       "      <td>6600</td>\n",
       "      <td>5</td>\n",
       "      <td>5</td>\n",
       "      <td>1962</td>\n",
       "      <td>1962</td>\n",
       "      <td>0.0</td>\n",
       "      <td>0</td>\n",
       "      <td>0</td>\n",
       "      <td>...</td>\n",
       "      <td>308</td>\n",
       "      <td>0</td>\n",
       "      <td>0</td>\n",
       "      <td>0</td>\n",
       "      <td>0</td>\n",
       "      <td>0</td>\n",
       "      <td>0</td>\n",
       "      <td>0</td>\n",
       "      <td>8</td>\n",
       "      <td>2009</td>\n",
       "    </tr>\n",
       "    <tr>\n",
       "      <th>93</th>\n",
       "      <td>30</td>\n",
       "      <td>80.0</td>\n",
       "      <td>13360</td>\n",
       "      <td>5</td>\n",
       "      <td>7</td>\n",
       "      <td>1921</td>\n",
       "      <td>2006</td>\n",
       "      <td>0.0</td>\n",
       "      <td>713</td>\n",
       "      <td>0</td>\n",
       "      <td>...</td>\n",
       "      <td>432</td>\n",
       "      <td>0</td>\n",
       "      <td>0</td>\n",
       "      <td>44</td>\n",
       "      <td>0</td>\n",
       "      <td>0</td>\n",
       "      <td>0</td>\n",
       "      <td>0</td>\n",
       "      <td>8</td>\n",
       "      <td>2009</td>\n",
       "    </tr>\n",
       "    <tr>\n",
       "      <th>818</th>\n",
       "      <td>20</td>\n",
       "      <td>NaN</td>\n",
       "      <td>13265</td>\n",
       "      <td>8</td>\n",
       "      <td>5</td>\n",
       "      <td>2002</td>\n",
       "      <td>2002</td>\n",
       "      <td>148.0</td>\n",
       "      <td>1218</td>\n",
       "      <td>0</td>\n",
       "      <td>...</td>\n",
       "      <td>857</td>\n",
       "      <td>150</td>\n",
       "      <td>59</td>\n",
       "      <td>0</td>\n",
       "      <td>0</td>\n",
       "      <td>0</td>\n",
       "      <td>0</td>\n",
       "      <td>0</td>\n",
       "      <td>7</td>\n",
       "      <td>2008</td>\n",
       "    </tr>\n",
       "    <tr>\n",
       "      <th>303</th>\n",
       "      <td>20</td>\n",
       "      <td>118.0</td>\n",
       "      <td>13704</td>\n",
       "      <td>7</td>\n",
       "      <td>5</td>\n",
       "      <td>2001</td>\n",
       "      <td>2002</td>\n",
       "      <td>150.0</td>\n",
       "      <td>0</td>\n",
       "      <td>0</td>\n",
       "      <td>...</td>\n",
       "      <td>843</td>\n",
       "      <td>468</td>\n",
       "      <td>81</td>\n",
       "      <td>0</td>\n",
       "      <td>0</td>\n",
       "      <td>0</td>\n",
       "      <td>0</td>\n",
       "      <td>0</td>\n",
       "      <td>1</td>\n",
       "      <td>2006</td>\n",
       "    </tr>\n",
       "  </tbody>\n",
       "</table>\n",
       "<p>5 rows × 36 columns</p>\n",
       "</div>"
      ],
      "text/plain": [
       "     MSSubClass  LotFrontage  LotArea  OverallQual  OverallCond  YearBuilt  \\\n",
       "Id                                                                           \n",
       "619          20         90.0    11694            9            5       2007   \n",
       "871          20         60.0     6600            5            5       1962   \n",
       "93           30         80.0    13360            5            7       1921   \n",
       "818          20          NaN    13265            8            5       2002   \n",
       "303          20        118.0    13704            7            5       2001   \n",
       "\n",
       "     YearRemodAdd  MasVnrArea  BsmtFinSF1  BsmtFinSF2  ...  GarageArea  \\\n",
       "Id                                                     ...               \n",
       "619          2007       452.0          48           0  ...         774   \n",
       "871          1962         0.0           0           0  ...         308   \n",
       "93           2006         0.0         713           0  ...         432   \n",
       "818          2002       148.0        1218           0  ...         857   \n",
       "303          2002       150.0           0           0  ...         843   \n",
       "\n",
       "     WoodDeckSF  OpenPorchSF  EnclosedPorch  3SsnPorch  ScreenPorch  PoolArea  \\\n",
       "Id                                                                              \n",
       "619           0          108              0          0          260         0   \n",
       "871           0            0              0          0            0         0   \n",
       "93            0            0             44          0            0         0   \n",
       "818         150           59              0          0            0         0   \n",
       "303         468           81              0          0            0         0   \n",
       "\n",
       "     MiscVal  MoSold  YrSold  \n",
       "Id                            \n",
       "619        0       7    2007  \n",
       "871        0       8    2009  \n",
       "93         0       8    2009  \n",
       "818        0       7    2008  \n",
       "303        0       1    2006  \n",
       "\n",
       "[5 rows x 36 columns]"
      ]
     },
     "execution_count": 3,
     "metadata": {},
     "output_type": "execute_result"
    }
   ],
   "source": [
    "X_train.head()"
   ]
  },
  {
   "cell_type": "markdown",
   "id": "6208b680",
   "metadata": {
    "papermill": {
     "duration": 0.011984,
     "end_time": "2023-07-14T09:02:11.901705",
     "exception": false,
     "start_time": "2023-07-14T09:02:11.889721",
     "status": "completed"
    },
    "tags": []
   },
   "source": [
    "You can already see a few missing values in the first several rows.  In the next step, you'll obtain a more comprehensive understanding of the missing values in the dataset.\n",
    "\n",
    "# Step 1: Preliminary investigation\n",
    "\n",
    "Run the code cell below without changes."
   ]
  },
  {
   "cell_type": "code",
   "execution_count": 4,
   "id": "f9f735b7",
   "metadata": {
    "execution": {
     "iopub.execute_input": "2023-07-14T09:02:11.928503Z",
     "iopub.status.busy": "2023-07-14T09:02:11.928061Z",
     "iopub.status.idle": "2023-07-14T09:02:11.936724Z",
     "shell.execute_reply": "2023-07-14T09:02:11.935141Z"
    },
    "papermill": {
     "duration": 0.025174,
     "end_time": "2023-07-14T09:02:11.939248",
     "exception": false,
     "start_time": "2023-07-14T09:02:11.914074",
     "status": "completed"
    },
    "tags": []
   },
   "outputs": [
    {
     "name": "stdout",
     "output_type": "stream",
     "text": [
      "(1168, 36)\n",
      "LotFrontage    212\n",
      "MasVnrArea       6\n",
      "GarageYrBlt     58\n",
      "dtype: int64\n"
     ]
    }
   ],
   "source": [
    "# Shape of training data (num_rows, num_columns)\n",
    "print(X_train.shape)\n",
    "\n",
    "# Number of missing values in each column of training data\n",
    "missing_val_count_by_column = (X_train.isnull().sum())\n",
    "print(missing_val_count_by_column[missing_val_count_by_column > 0])"
   ]
  },
  {
   "cell_type": "markdown",
   "id": "ef6ef906",
   "metadata": {
    "papermill": {
     "duration": 0.012011,
     "end_time": "2023-07-14T09:02:11.963765",
     "exception": false,
     "start_time": "2023-07-14T09:02:11.951754",
     "status": "completed"
    },
    "tags": []
   },
   "source": [
    "### Part A\n",
    "\n",
    "Use the above output to answer the questions below."
   ]
  },
  {
   "cell_type": "code",
   "execution_count": 5,
   "id": "a49ce66b",
   "metadata": {
    "execution": {
     "iopub.execute_input": "2023-07-14T09:02:11.990523Z",
     "iopub.status.busy": "2023-07-14T09:02:11.990069Z",
     "iopub.status.idle": "2023-07-14T09:02:11.999323Z",
     "shell.execute_reply": "2023-07-14T09:02:11.998466Z"
    },
    "papermill": {
     "duration": 0.025236,
     "end_time": "2023-07-14T09:02:12.001439",
     "exception": false,
     "start_time": "2023-07-14T09:02:11.976203",
     "status": "completed"
    },
    "tags": []
   },
   "outputs": [
    {
     "data": {
      "application/javascript": [
       "parent.postMessage({\"jupyterEvent\": \"custom.exercise_interaction\", \"data\": {\"outcomeType\": 1, \"valueTowardsCompletion\": 1.0, \"interactionType\": 1, \"questionType\": 1, \"questionId\": \"1.1_InvestigateEquality\", \"learnToolsVersion\": \"0.3.4\", \"failureMessage\": \"\", \"exceptionClass\": \"\", \"trace\": \"\"}}, \"*\")"
      ],
      "text/plain": [
       "<IPython.core.display.Javascript object>"
      ]
     },
     "metadata": {},
     "output_type": "display_data"
    },
    {
     "data": {
      "text/markdown": [
       "<span style=\"color:#33cc33\">Correct</span>"
      ],
      "text/plain": [
       "Correct"
      ]
     },
     "metadata": {},
     "output_type": "display_data"
    }
   ],
   "source": [
    "# How many rows are in the training data?\n",
    "num_rows = 1168\n",
    "\n",
    "# How many columns in the training data have missing values?\n",
    "num_cols_with_missing = 3\n",
    "\n",
    "# How many missing entries are contained in all of the training data?\n",
    "tot_missing = 212 + 6 + 58\n",
    "# Check your answers\n",
    "step_1.a.check()"
   ]
  },
  {
   "cell_type": "code",
   "execution_count": 6,
   "id": "bfca5581",
   "metadata": {
    "execution": {
     "iopub.execute_input": "2023-07-14T09:02:12.028638Z",
     "iopub.status.busy": "2023-07-14T09:02:12.028175Z",
     "iopub.status.idle": "2023-07-14T09:02:12.033785Z",
     "shell.execute_reply": "2023-07-14T09:02:12.032585Z"
    },
    "papermill": {
     "duration": 0.022137,
     "end_time": "2023-07-14T09:02:12.036335",
     "exception": false,
     "start_time": "2023-07-14T09:02:12.014198",
     "status": "completed"
    },
    "tags": []
   },
   "outputs": [],
   "source": [
    "# Lines below will give you a hint or solution code\n",
    "#step_1.a.hint()\n",
    "#step_1.a.solution()"
   ]
  },
  {
   "cell_type": "markdown",
   "id": "2c22801a",
   "metadata": {
    "papermill": {
     "duration": 0.012526,
     "end_time": "2023-07-14T09:02:12.061926",
     "exception": false,
     "start_time": "2023-07-14T09:02:12.049400",
     "status": "completed"
    },
    "tags": []
   },
   "source": [
    "### Part B\n",
    "Considering your answers above, what do you think is likely the best approach to dealing with the missing values?"
   ]
  },
  {
   "cell_type": "code",
   "execution_count": 7,
   "id": "cbf9a555",
   "metadata": {
    "execution": {
     "iopub.execute_input": "2023-07-14T09:02:12.090479Z",
     "iopub.status.busy": "2023-07-14T09:02:12.089742Z",
     "iopub.status.idle": "2023-07-14T09:02:12.098621Z",
     "shell.execute_reply": "2023-07-14T09:02:12.097477Z"
    },
    "papermill": {
     "duration": 0.026063,
     "end_time": "2023-07-14T09:02:12.101067",
     "exception": false,
     "start_time": "2023-07-14T09:02:12.075004",
     "status": "completed"
    },
    "tags": []
   },
   "outputs": [
    {
     "data": {
      "application/javascript": [
       "parent.postMessage({\"jupyterEvent\": \"custom.exercise_interaction\", \"data\": {\"outcomeType\": 1, \"valueTowardsCompletion\": 1.0, \"interactionType\": 1, \"questionType\": 4, \"questionId\": \"1.2_InvestigateThought\", \"learnToolsVersion\": \"0.3.4\", \"failureMessage\": \"\", \"exceptionClass\": \"\", \"trace\": \"\"}}, \"*\")"
      ],
      "text/plain": [
       "<IPython.core.display.Javascript object>"
      ]
     },
     "metadata": {},
     "output_type": "display_data"
    },
    {
     "data": {
      "text/markdown": [
       "<span style=\"color:#33cc33\">Correct:</span> \n",
       "\n",
       "Since there are relatively few missing entries in the data (the column with the greatest percentage of missing values is missing less than 20% of its entries), we can expect that dropping columns is unlikely to yield good results.  This is because we'd be throwing away a lot of valuable data, and so imputation will likely perform better."
      ],
      "text/plain": [
       "Correct: \n",
       "\n",
       "Since there are relatively few missing entries in the data (the column with the greatest percentage of missing values is missing less than 20% of its entries), we can expect that dropping columns is unlikely to yield good results.  This is because we'd be throwing away a lot of valuable data, and so imputation will likely perform better."
      ]
     },
     "metadata": {},
     "output_type": "display_data"
    }
   ],
   "source": [
    "# Check your answer (Run this code cell to receive credit!)\n",
    "step_1.b.check()"
   ]
  },
  {
   "cell_type": "code",
   "execution_count": 8,
   "id": "e23a5c38",
   "metadata": {
    "execution": {
     "iopub.execute_input": "2023-07-14T09:02:12.128908Z",
     "iopub.status.busy": "2023-07-14T09:02:12.128533Z",
     "iopub.status.idle": "2023-07-14T09:02:12.133127Z",
     "shell.execute_reply": "2023-07-14T09:02:12.132117Z"
    },
    "papermill": {
     "duration": 0.02159,
     "end_time": "2023-07-14T09:02:12.135632",
     "exception": false,
     "start_time": "2023-07-14T09:02:12.114042",
     "status": "completed"
    },
    "tags": []
   },
   "outputs": [],
   "source": [
    "#step_1.b.hint()"
   ]
  },
  {
   "cell_type": "markdown",
   "id": "7ade397b",
   "metadata": {
    "papermill": {
     "duration": 0.012907,
     "end_time": "2023-07-14T09:02:12.161751",
     "exception": false,
     "start_time": "2023-07-14T09:02:12.148844",
     "status": "completed"
    },
    "tags": []
   },
   "source": [
    "To compare different approaches to dealing with missing values, you'll use the same `score_dataset()` function from the tutorial.  This function reports the [mean absolute error](https://en.wikipedia.org/wiki/Mean_absolute_error) (MAE) from a random forest model."
   ]
  },
  {
   "cell_type": "code",
   "execution_count": 9,
   "id": "3fdaea22",
   "metadata": {
    "execution": {
     "iopub.execute_input": "2023-07-14T09:02:12.191039Z",
     "iopub.status.busy": "2023-07-14T09:02:12.190640Z",
     "iopub.status.idle": "2023-07-14T09:02:12.581260Z",
     "shell.execute_reply": "2023-07-14T09:02:12.580157Z"
    },
    "papermill": {
     "duration": 0.408037,
     "end_time": "2023-07-14T09:02:12.584066",
     "exception": false,
     "start_time": "2023-07-14T09:02:12.176029",
     "status": "completed"
    },
    "tags": []
   },
   "outputs": [],
   "source": [
    "from sklearn.ensemble import RandomForestRegressor\n",
    "from sklearn.metrics import mean_absolute_error\n",
    "\n",
    "# Function for comparing different approaches\n",
    "def score_dataset(X_train, X_valid, y_train, y_valid):\n",
    "    model = RandomForestRegressor(n_estimators=100, random_state=0)\n",
    "    model.fit(X_train, y_train)\n",
    "    preds = model.predict(X_valid)\n",
    "    return mean_absolute_error(y_valid, preds)"
   ]
  },
  {
   "cell_type": "markdown",
   "id": "55edb115",
   "metadata": {
    "papermill": {
     "duration": 0.013399,
     "end_time": "2023-07-14T09:02:12.610880",
     "exception": false,
     "start_time": "2023-07-14T09:02:12.597481",
     "status": "completed"
    },
    "tags": []
   },
   "source": [
    "# Step 2: Drop columns with missing values\n",
    "\n",
    "In this step, you'll preprocess the data in `X_train` and `X_valid` to remove columns with missing values.  Set the preprocessed DataFrames to `reduced_X_train` and `reduced_X_valid`, respectively.  "
   ]
  },
  {
   "cell_type": "code",
   "execution_count": 10,
   "id": "d82addb2",
   "metadata": {
    "execution": {
     "iopub.execute_input": "2023-07-14T09:02:12.639802Z",
     "iopub.status.busy": "2023-07-14T09:02:12.639391Z",
     "iopub.status.idle": "2023-07-14T09:02:12.670339Z",
     "shell.execute_reply": "2023-07-14T09:02:12.669171Z"
    },
    "papermill": {
     "duration": 0.048327,
     "end_time": "2023-07-14T09:02:12.672742",
     "exception": false,
     "start_time": "2023-07-14T09:02:12.624415",
     "status": "completed"
    },
    "tags": []
   },
   "outputs": [
    {
     "data": {
      "application/javascript": [
       "parent.postMessage({\"jupyterEvent\": \"custom.exercise_interaction\", \"data\": {\"outcomeType\": 1, \"valueTowardsCompletion\": 1.0, \"interactionType\": 1, \"questionType\": 2, \"questionId\": \"2_DropMissing\", \"learnToolsVersion\": \"0.3.4\", \"failureMessage\": \"\", \"exceptionClass\": \"\", \"trace\": \"\"}}, \"*\")"
      ],
      "text/plain": [
       "<IPython.core.display.Javascript object>"
      ]
     },
     "metadata": {},
     "output_type": "display_data"
    },
    {
     "data": {
      "text/markdown": [
       "<span style=\"color:#33cc33\">Correct</span>"
      ],
      "text/plain": [
       "Correct"
      ]
     },
     "metadata": {},
     "output_type": "display_data"
    }
   ],
   "source": [
    "# Get names of columns with missing values\n",
    "cols_with_missing = [col for col in X_train.columns\n",
    "                     if X_train[col].isnull().any()]\n",
    "\n",
    "# Drop columns in training and validation data\n",
    "reduced_X_train = X_train.drop(cols_with_missing, axis=1)\n",
    "reduced_X_valid = X_valid.drop(cols_with_missing, axis=1)\n",
    "\n",
    "# Check your answers\n",
    "step_2.check()"
   ]
  },
  {
   "cell_type": "code",
   "execution_count": 11,
   "id": "452c4a73",
   "metadata": {
    "execution": {
     "iopub.execute_input": "2023-07-14T09:02:12.702139Z",
     "iopub.status.busy": "2023-07-14T09:02:12.701274Z",
     "iopub.status.idle": "2023-07-14T09:02:12.706272Z",
     "shell.execute_reply": "2023-07-14T09:02:12.705447Z"
    },
    "papermill": {
     "duration": 0.022392,
     "end_time": "2023-07-14T09:02:12.708670",
     "exception": false,
     "start_time": "2023-07-14T09:02:12.686278",
     "status": "completed"
    },
    "tags": []
   },
   "outputs": [],
   "source": [
    "# Lines below will give you a hint or solution code\n",
    "#step_2.hint()\n",
    "#step_2.solution()"
   ]
  },
  {
   "cell_type": "markdown",
   "id": "bc6cf596",
   "metadata": {
    "papermill": {
     "duration": 0.013294,
     "end_time": "2023-07-14T09:02:12.735765",
     "exception": false,
     "start_time": "2023-07-14T09:02:12.722471",
     "status": "completed"
    },
    "tags": []
   },
   "source": [
    "Run the next code cell without changes to obtain the MAE for this approach."
   ]
  },
  {
   "cell_type": "code",
   "execution_count": 12,
   "id": "b1915cd5",
   "metadata": {
    "execution": {
     "iopub.execute_input": "2023-07-14T09:02:12.767244Z",
     "iopub.status.busy": "2023-07-14T09:02:12.766201Z",
     "iopub.status.idle": "2023-07-14T09:02:14.088169Z",
     "shell.execute_reply": "2023-07-14T09:02:14.086880Z"
    },
    "papermill": {
     "duration": 1.339341,
     "end_time": "2023-07-14T09:02:14.090752",
     "exception": false,
     "start_time": "2023-07-14T09:02:12.751411",
     "status": "completed"
    },
    "tags": []
   },
   "outputs": [
    {
     "name": "stdout",
     "output_type": "stream",
     "text": [
      "MAE (Drop columns with missing values):\n",
      "17837.82570776256\n"
     ]
    }
   ],
   "source": [
    "print(\"MAE (Drop columns with missing values):\")\n",
    "print(score_dataset(reduced_X_train, reduced_X_valid, y_train, y_valid))"
   ]
  },
  {
   "cell_type": "markdown",
   "id": "eb710c79",
   "metadata": {
    "papermill": {
     "duration": 0.013244,
     "end_time": "2023-07-14T09:02:14.118108",
     "exception": false,
     "start_time": "2023-07-14T09:02:14.104864",
     "status": "completed"
    },
    "tags": []
   },
   "source": [
    "# Step 3: Imputation\n",
    "\n",
    "### Part A\n",
    "\n",
    "Use the next code cell to impute missing values with the mean value along each column.  Set the preprocessed DataFrames to `imputed_X_train` and `imputed_X_valid`.  Make sure that the column names match those in `X_train` and `X_valid`."
   ]
  },
  {
   "cell_type": "code",
   "execution_count": 13,
   "id": "f40dca17",
   "metadata": {
    "execution": {
     "iopub.execute_input": "2023-07-14T09:02:14.146944Z",
     "iopub.status.busy": "2023-07-14T09:02:14.146558Z",
     "iopub.status.idle": "2023-07-14T09:02:14.190466Z",
     "shell.execute_reply": "2023-07-14T09:02:14.189289Z"
    },
    "papermill": {
     "duration": 0.06114,
     "end_time": "2023-07-14T09:02:14.193122",
     "exception": false,
     "start_time": "2023-07-14T09:02:14.131982",
     "status": "completed"
    },
    "tags": []
   },
   "outputs": [
    {
     "data": {
      "application/javascript": [
       "parent.postMessage({\"jupyterEvent\": \"custom.exercise_interaction\", \"data\": {\"outcomeType\": 1, \"valueTowardsCompletion\": 1.0, \"interactionType\": 1, \"questionType\": 2, \"questionId\": \"3.1_ImputeCode\", \"learnToolsVersion\": \"0.3.4\", \"failureMessage\": \"\", \"exceptionClass\": \"\", \"trace\": \"\"}}, \"*\")"
      ],
      "text/plain": [
       "<IPython.core.display.Javascript object>"
      ]
     },
     "metadata": {},
     "output_type": "display_data"
    },
    {
     "data": {
      "text/markdown": [
       "<span style=\"color:#33cc33\">Correct</span>"
      ],
      "text/plain": [
       "Correct"
      ]
     },
     "metadata": {},
     "output_type": "display_data"
    }
   ],
   "source": [
    "from sklearn.impute import SimpleImputer\n",
    "\n",
    "# Imputation\n",
    "my_imputer = SimpleImputer()\n",
    "imputed_X_train = pd.DataFrame(my_imputer.fit_transform(X_train))\n",
    "imputed_X_valid = pd.DataFrame(my_imputer.transform(X_valid))\n",
    "\n",
    "# Imputation removed column names; put them back\n",
    "imputed_X_train.columns = X_train.columns\n",
    "imputed_X_valid.columns = X_valid.columns\n",
    "\n",
    "# Check your answers\n",
    "step_3.a.check()"
   ]
  },
  {
   "cell_type": "code",
   "execution_count": 14,
   "id": "19a85edd",
   "metadata": {
    "execution": {
     "iopub.execute_input": "2023-07-14T09:02:14.222774Z",
     "iopub.status.busy": "2023-07-14T09:02:14.222307Z",
     "iopub.status.idle": "2023-07-14T09:02:14.226656Z",
     "shell.execute_reply": "2023-07-14T09:02:14.225803Z"
    },
    "papermill": {
     "duration": 0.021807,
     "end_time": "2023-07-14T09:02:14.228828",
     "exception": false,
     "start_time": "2023-07-14T09:02:14.207021",
     "status": "completed"
    },
    "tags": []
   },
   "outputs": [],
   "source": [
    "# Lines below will give you a hint or solution code\n",
    "#step_3.a.hint()\n",
    "#step_3.a.solution()"
   ]
  },
  {
   "cell_type": "markdown",
   "id": "768c6869",
   "metadata": {
    "papermill": {
     "duration": 0.013324,
     "end_time": "2023-07-14T09:02:14.256140",
     "exception": false,
     "start_time": "2023-07-14T09:02:14.242816",
     "status": "completed"
    },
    "tags": []
   },
   "source": [
    "Run the next code cell without changes to obtain the MAE for this approach."
   ]
  },
  {
   "cell_type": "code",
   "execution_count": 15,
   "id": "7543e77b",
   "metadata": {
    "execution": {
     "iopub.execute_input": "2023-07-14T09:02:14.285299Z",
     "iopub.status.busy": "2023-07-14T09:02:14.284873Z",
     "iopub.status.idle": "2023-07-14T09:02:15.747920Z",
     "shell.execute_reply": "2023-07-14T09:02:15.746282Z"
    },
    "papermill": {
     "duration": 1.4806,
     "end_time": "2023-07-14T09:02:15.750572",
     "exception": false,
     "start_time": "2023-07-14T09:02:14.269972",
     "status": "completed"
    },
    "tags": []
   },
   "outputs": [
    {
     "name": "stdout",
     "output_type": "stream",
     "text": [
      "MAE (Imputation):\n",
      "18062.894611872147\n"
     ]
    }
   ],
   "source": [
    "print(\"MAE (Imputation):\")\n",
    "print(score_dataset(imputed_X_train, imputed_X_valid, y_train, y_valid))"
   ]
  },
  {
   "cell_type": "markdown",
   "id": "ad751bef",
   "metadata": {
    "papermill": {
     "duration": 0.014735,
     "end_time": "2023-07-14T09:02:15.784256",
     "exception": false,
     "start_time": "2023-07-14T09:02:15.769521",
     "status": "completed"
    },
    "tags": []
   },
   "source": [
    "### Part B\n",
    "\n",
    "Compare the MAE from each approach.  Does anything surprise you about the results?  Why do you think one approach performed better than the other?"
   ]
  },
  {
   "cell_type": "code",
   "execution_count": 16,
   "id": "222c97fc",
   "metadata": {
    "execution": {
     "iopub.execute_input": "2023-07-14T09:02:15.815528Z",
     "iopub.status.busy": "2023-07-14T09:02:15.815112Z",
     "iopub.status.idle": "2023-07-14T09:02:15.824244Z",
     "shell.execute_reply": "2023-07-14T09:02:15.823150Z"
    },
    "papermill": {
     "duration": 0.027262,
     "end_time": "2023-07-14T09:02:15.826577",
     "exception": false,
     "start_time": "2023-07-14T09:02:15.799315",
     "status": "completed"
    },
    "tags": []
   },
   "outputs": [
    {
     "data": {
      "application/javascript": [
       "parent.postMessage({\"jupyterEvent\": \"custom.exercise_interaction\", \"data\": {\"outcomeType\": 1, \"valueTowardsCompletion\": 1.0, \"interactionType\": 1, \"questionType\": 4, \"questionId\": \"3.2_ImputeThought\", \"learnToolsVersion\": \"0.3.4\", \"failureMessage\": \"\", \"exceptionClass\": \"\", \"trace\": \"\"}}, \"*\")"
      ],
      "text/plain": [
       "<IPython.core.display.Javascript object>"
      ]
     },
     "metadata": {},
     "output_type": "display_data"
    },
    {
     "data": {
      "text/markdown": [
       "<span style=\"color:#33cc33\">Correct:</span> \n",
       "\n",
       "Given that thre are so few missing values in the dataset, we'd expect imputation to perform better than dropping columns entirely.  However, we see that dropping columns performs slightly better!  While this can probably partially be attributed to noise in the dataset, another potential explanation is that the imputation method is not a great match to this dataset.  That is, maybe instead of filling in the mean value, it makes more sense to set every missing value to a value of 0, to fill in the most frequently encountered value, or to use some other method.  For instance, consider the `GarageYrBlt` column (which indicates the year that the garage was built).  It's likely that in some cases, a missing value could indicate a house that does not have a garage.  Does it make more sense to fill in the median value along each column in this case?  Or could we get better results by filling in the minimum value along each column?  It's not quite clear what's best in this case, but perhaps we can rule out some options immediately - for instance, setting missing values in this column to 0 is likely to yield horrible results!"
      ],
      "text/plain": [
       "Correct: \n",
       "\n",
       "Given that thre are so few missing values in the dataset, we'd expect imputation to perform better than dropping columns entirely.  However, we see that dropping columns performs slightly better!  While this can probably partially be attributed to noise in the dataset, another potential explanation is that the imputation method is not a great match to this dataset.  That is, maybe instead of filling in the mean value, it makes more sense to set every missing value to a value of 0, to fill in the most frequently encountered value, or to use some other method.  For instance, consider the `GarageYrBlt` column (which indicates the year that the garage was built).  It's likely that in some cases, a missing value could indicate a house that does not have a garage.  Does it make more sense to fill in the median value along each column in this case?  Or could we get better results by filling in the minimum value along each column?  It's not quite clear what's best in this case, but perhaps we can rule out some options immediately - for instance, setting missing values in this column to 0 is likely to yield horrible results!"
      ]
     },
     "metadata": {},
     "output_type": "display_data"
    }
   ],
   "source": [
    "# Check your answer (Run this code cell to receive credit!)\n",
    "step_3.b.check()"
   ]
  },
  {
   "cell_type": "code",
   "execution_count": 17,
   "id": "1abd2ea4",
   "metadata": {
    "execution": {
     "iopub.execute_input": "2023-07-14T09:02:15.860748Z",
     "iopub.status.busy": "2023-07-14T09:02:15.860327Z",
     "iopub.status.idle": "2023-07-14T09:02:15.865320Z",
     "shell.execute_reply": "2023-07-14T09:02:15.864107Z"
    },
    "papermill": {
     "duration": 0.024422,
     "end_time": "2023-07-14T09:02:15.867908",
     "exception": false,
     "start_time": "2023-07-14T09:02:15.843486",
     "status": "completed"
    },
    "tags": []
   },
   "outputs": [],
   "source": [
    "#step_3.b.hint()"
   ]
  },
  {
   "cell_type": "markdown",
   "id": "1d0a2aa4",
   "metadata": {
    "papermill": {
     "duration": 0.014393,
     "end_time": "2023-07-14T09:02:15.898305",
     "exception": false,
     "start_time": "2023-07-14T09:02:15.883912",
     "status": "completed"
    },
    "tags": []
   },
   "source": [
    "# Step 4: Generate test predictions\n",
    "\n",
    "In this final step, you'll use any approach of your choosing to deal with missing values.  Once you've preprocessed the training and validation features, you'll train and evaluate a random forest model.  Then, you'll preprocess the test data before generating predictions that can be submitted to the competition!\n",
    "\n",
    "### Part A\n",
    "\n",
    "Use the next code cell to preprocess the training and validation data.  Set the preprocessed DataFrames to `final_X_train` and `final_X_valid`.  **You can use any approach of your choosing here!**  in order for this step to be marked as correct, you need only ensure:\n",
    "- the preprocessed DataFrames have the same number of columns,\n",
    "- the preprocessed DataFrames have no missing values, \n",
    "- `final_X_train` and `y_train` have the same number of rows, and\n",
    "- `final_X_valid` and `y_valid` have the same number of rows."
   ]
  },
  {
   "cell_type": "code",
   "execution_count": 18,
   "id": "47be294b",
   "metadata": {
    "execution": {
     "iopub.execute_input": "2023-07-14T09:02:15.929282Z",
     "iopub.status.busy": "2023-07-14T09:02:15.928867Z",
     "iopub.status.idle": "2023-07-14T09:02:15.963228Z",
     "shell.execute_reply": "2023-07-14T09:02:15.962047Z"
    },
    "papermill": {
     "duration": 0.052937,
     "end_time": "2023-07-14T09:02:15.965840",
     "exception": false,
     "start_time": "2023-07-14T09:02:15.912903",
     "status": "completed"
    },
    "tags": []
   },
   "outputs": [
    {
     "data": {
      "application/javascript": [
       "parent.postMessage({\"jupyterEvent\": \"custom.exercise_interaction\", \"data\": {\"outcomeType\": 1, \"valueTowardsCompletion\": 1.0, \"interactionType\": 1, \"questionType\": 2, \"questionId\": \"4.1_PredsCodeA\", \"learnToolsVersion\": \"0.3.4\", \"failureMessage\": \"\", \"exceptionClass\": \"\", \"trace\": \"\"}}, \"*\")"
      ],
      "text/plain": [
       "<IPython.core.display.Javascript object>"
      ]
     },
     "metadata": {},
     "output_type": "display_data"
    },
    {
     "data": {
      "text/markdown": [
       "<span style=\"color:#33cc33\">Correct</span>"
      ],
      "text/plain": [
       "Correct"
      ]
     },
     "metadata": {},
     "output_type": "display_data"
    }
   ],
   "source": [
    "# Preprocessed training and validation features\n",
    "# Imputation\n",
    "final_imputer = SimpleImputer(strategy='median')\n",
    "final_X_train = pd.DataFrame(final_imputer.fit_transform(X_train))\n",
    "final_X_valid = pd.DataFrame(final_imputer.transform(X_valid))\n",
    "\n",
    "# Imputation removed column names; put them back\n",
    "final_X_train.columns = X_train.columns\n",
    "final_X_valid.columns = X_valid.columns\n",
    "\n",
    "# Check your answers\n",
    "step_4.a.check()"
   ]
  },
  {
   "cell_type": "code",
   "execution_count": 19,
   "id": "c55de151",
   "metadata": {
    "execution": {
     "iopub.execute_input": "2023-07-14T09:02:15.997642Z",
     "iopub.status.busy": "2023-07-14T09:02:15.997210Z",
     "iopub.status.idle": "2023-07-14T09:02:16.001866Z",
     "shell.execute_reply": "2023-07-14T09:02:16.000778Z"
    },
    "papermill": {
     "duration": 0.023389,
     "end_time": "2023-07-14T09:02:16.004240",
     "exception": false,
     "start_time": "2023-07-14T09:02:15.980851",
     "status": "completed"
    },
    "tags": []
   },
   "outputs": [],
   "source": [
    "# Lines below will give you a hint or solution code\n",
    "#step_4.a.hint()\n",
    "#step_4.a.solution()"
   ]
  },
  {
   "cell_type": "markdown",
   "id": "63f771e7",
   "metadata": {
    "papermill": {
     "duration": 0.014479,
     "end_time": "2023-07-14T09:02:16.033797",
     "exception": false,
     "start_time": "2023-07-14T09:02:16.019318",
     "status": "completed"
    },
    "tags": []
   },
   "source": [
    "Run the next code cell to train and evaluate a random forest model.  (*Note that we don't use the `score_dataset()` function above, because we will soon use the trained model to generate test predictions!*)"
   ]
  },
  {
   "cell_type": "code",
   "execution_count": 20,
   "id": "9b84b131",
   "metadata": {
    "execution": {
     "iopub.execute_input": "2023-07-14T09:02:16.065928Z",
     "iopub.status.busy": "2023-07-14T09:02:16.065524Z",
     "iopub.status.idle": "2023-07-14T09:02:17.498573Z",
     "shell.execute_reply": "2023-07-14T09:02:17.497257Z"
    },
    "papermill": {
     "duration": 1.451716,
     "end_time": "2023-07-14T09:02:17.500911",
     "exception": false,
     "start_time": "2023-07-14T09:02:16.049195",
     "status": "completed"
    },
    "tags": []
   },
   "outputs": [
    {
     "name": "stdout",
     "output_type": "stream",
     "text": [
      "MAE (Your approach):\n",
      "17791.59899543379\n"
     ]
    }
   ],
   "source": [
    "# Define and fit model\n",
    "model = RandomForestRegressor(n_estimators=100, random_state=0)\n",
    "model.fit(final_X_train, y_train)\n",
    "\n",
    "# Get validation predictions and MAE\n",
    "preds_valid = model.predict(final_X_valid)\n",
    "print(\"MAE (Your approach):\")\n",
    "print(mean_absolute_error(y_valid, preds_valid))"
   ]
  },
  {
   "cell_type": "markdown",
   "id": "7f770d6b",
   "metadata": {
    "papermill": {
     "duration": 0.014714,
     "end_time": "2023-07-14T09:02:17.530598",
     "exception": false,
     "start_time": "2023-07-14T09:02:17.515884",
     "status": "completed"
    },
    "tags": []
   },
   "source": [
    "### Part B\n",
    "\n",
    "Use the next code cell to preprocess your test data.  Make sure that you use a method that agrees with how you preprocessed the training and validation data, and set the preprocessed test features to `final_X_test`.\n",
    "\n",
    "Then, use the preprocessed test features and the trained model to generate test predictions in `preds_test`.\n",
    "\n",
    "In order for this step to be marked correct, you need only ensure:\n",
    "- the preprocessed test DataFrame has no missing values, and\n",
    "- `final_X_test` has the same number of rows as `X_test`."
   ]
  },
  {
   "cell_type": "code",
   "execution_count": 21,
   "id": "ccc60b11",
   "metadata": {
    "execution": {
     "iopub.execute_input": "2023-07-14T09:02:17.563061Z",
     "iopub.status.busy": "2023-07-14T09:02:17.561919Z",
     "iopub.status.idle": "2023-07-14T09:02:17.622241Z",
     "shell.execute_reply": "2023-07-14T09:02:17.621137Z"
    },
    "papermill": {
     "duration": 0.078782,
     "end_time": "2023-07-14T09:02:17.624418",
     "exception": false,
     "start_time": "2023-07-14T09:02:17.545636",
     "status": "completed"
    },
    "tags": []
   },
   "outputs": [
    {
     "name": "stderr",
     "output_type": "stream",
     "text": [
      "/opt/conda/lib/python3.10/site-packages/sklearn/base.py:439: UserWarning: X does not have valid feature names, but RandomForestRegressor was fitted with feature names\n",
      "  warnings.warn(\n"
     ]
    },
    {
     "data": {
      "application/javascript": [
       "parent.postMessage({\"jupyterEvent\": \"custom.exercise_interaction\", \"data\": {\"outcomeType\": 1, \"valueTowardsCompletion\": 1.0, \"interactionType\": 1, \"questionType\": 2, \"questionId\": \"4.2_PredsCodeB\", \"learnToolsVersion\": \"0.3.4\", \"failureMessage\": \"\", \"exceptionClass\": \"\", \"trace\": \"\"}}, \"*\")"
      ],
      "text/plain": [
       "<IPython.core.display.Javascript object>"
      ]
     },
     "metadata": {},
     "output_type": "display_data"
    },
    {
     "data": {
      "text/markdown": [
       "<span style=\"color:#33cc33\">Correct</span>"
      ],
      "text/plain": [
       "Correct"
      ]
     },
     "metadata": {},
     "output_type": "display_data"
    }
   ],
   "source": [
    "# Preprocess test data\n",
    "final_X_test = pd.DataFrame(final_imputer.transform(X_test))\n",
    "\n",
    "# Get test predictions\n",
    "preds_test = model.predict(final_X_test)\n",
    "\n",
    "# Check your answers\n",
    "step_4.b.check()"
   ]
  },
  {
   "cell_type": "code",
   "execution_count": 22,
   "id": "89154050",
   "metadata": {
    "execution": {
     "iopub.execute_input": "2023-07-14T09:02:17.656767Z",
     "iopub.status.busy": "2023-07-14T09:02:17.656358Z",
     "iopub.status.idle": "2023-07-14T09:02:17.661148Z",
     "shell.execute_reply": "2023-07-14T09:02:17.660115Z"
    },
    "papermill": {
     "duration": 0.025227,
     "end_time": "2023-07-14T09:02:17.664802",
     "exception": false,
     "start_time": "2023-07-14T09:02:17.639575",
     "status": "completed"
    },
    "tags": []
   },
   "outputs": [],
   "source": [
    "# Lines below will give you a hint or solution code\n",
    "#step_4.b.hint()\n",
    "#step_4.b.solution()"
   ]
  },
  {
   "cell_type": "markdown",
   "id": "dcd97d05",
   "metadata": {
    "papermill": {
     "duration": 0.014969,
     "end_time": "2023-07-14T09:02:17.697045",
     "exception": false,
     "start_time": "2023-07-14T09:02:17.682076",
     "status": "completed"
    },
    "tags": []
   },
   "source": [
    "Run the next code cell without changes to save your results to a CSV file that can be submitted directly to the competition."
   ]
  },
  {
   "cell_type": "code",
   "execution_count": 23,
   "id": "12fbce66",
   "metadata": {
    "execution": {
     "iopub.execute_input": "2023-07-14T09:02:17.729865Z",
     "iopub.status.busy": "2023-07-14T09:02:17.729372Z",
     "iopub.status.idle": "2023-07-14T09:02:17.742946Z",
     "shell.execute_reply": "2023-07-14T09:02:17.741977Z"
    },
    "papermill": {
     "duration": 0.032876,
     "end_time": "2023-07-14T09:02:17.745515",
     "exception": false,
     "start_time": "2023-07-14T09:02:17.712639",
     "status": "completed"
    },
    "tags": []
   },
   "outputs": [],
   "source": [
    "# Save test predictions to file\n",
    "output = pd.DataFrame({'Id': X_test.index,\n",
    "                       'SalePrice': preds_test})\n",
    "output.to_csv('submission.csv', index=False)"
   ]
  },
  {
   "cell_type": "markdown",
   "id": "f680d3ef",
   "metadata": {
    "papermill": {
     "duration": 0.016435,
     "end_time": "2023-07-14T09:02:17.777758",
     "exception": false,
     "start_time": "2023-07-14T09:02:17.761323",
     "status": "completed"
    },
    "tags": []
   },
   "source": [
    "# Submit your results\n",
    "\n",
    "Once you have successfully completed Step 4, you're ready to submit your results to the leaderboard!  (_You also learned how to do this in the previous exercise.  If you need a reminder of how to do this, please use the instructions below._)  \n",
    "\n",
    "First, you'll need to join the competition if you haven't already.  So open a new window by clicking on [this link](https://www.kaggle.com/c/home-data-for-ml-course).  Then click on the **Join Competition** button.\n",
    "\n",
    "![join competition image](https://storage.googleapis.com/kaggle-media/learn/images/wLmFtH3.png)\n",
    "\n",
    "Next, follow the instructions below:\n",
    "1. Begin by clicking on the **Save Version** button in the top right corner of the window.  This will generate a pop-up window.  \n",
    "2. Ensure that the **Save and Run All** option is selected, and then click on the **Save** button.\n",
    "3. This generates a window in the bottom left corner of the notebook.  After it has finished running, click on the number to the right of the **Save Version** button.  This pulls up a list of versions on the right of the screen.  Click on the ellipsis **(...)** to the right of the most recent version, and select **Open in Viewer**.  This brings you into view mode of the same page. You will need to scroll down to get back to these instructions.\n",
    "4. Click on the **Data** tab near the top of the screen.  Then, click on the file you would like to submit, and click on the **Submit** button to submit your results to the leaderboard.\n",
    "\n",
    "You have now successfully submitted to the competition!\n",
    "\n",
    "If you want to keep working to improve your performance, select the **Edit** button in the top right of the screen. Then you can change your code and repeat the process. There's a lot of room to improve, and you will climb up the leaderboard as you work.\n",
    "\n",
    "\n",
    "# Keep going\n",
    "\n",
    "Move on to learn what **[categorical variables](https://www.kaggle.com/alexisbcook/categorical-variables)** are, along with how to incorporate them into your machine learning models.  Categorical variables are very common in real-world data, but you'll get an error if you try to plug them into your models without processing them first!"
   ]
  },
  {
   "cell_type": "markdown",
   "id": "f4b5a952",
   "metadata": {
    "papermill": {
     "duration": 0.014959,
     "end_time": "2023-07-14T09:02:17.807955",
     "exception": false,
     "start_time": "2023-07-14T09:02:17.792996",
     "status": "completed"
    },
    "tags": []
   },
   "source": [
    "---\n",
    "\n",
    "\n",
    "\n",
    "\n",
    "*Have questions or comments? Visit the [course discussion forum](https://www.kaggle.com/learn/intermediate-machine-learning/discussion) to chat with other learners.*"
   ]
  }
 ],
 "metadata": {
  "kernelspec": {
   "display_name": "Python 3",
   "language": "python",
   "name": "python3"
  },
  "language_info": {
   "codemirror_mode": {
    "name": "ipython",
    "version": 3
   },
   "file_extension": ".py",
   "mimetype": "text/x-python",
   "name": "python",
   "nbconvert_exporter": "python",
   "pygments_lexer": "ipython3",
   "version": "3.10.12"
  },
  "papermill": {
   "default_parameters": {},
   "duration": 19.947736,
   "end_time": "2023-07-14T09:02:18.846621",
   "environment_variables": {},
   "exception": null,
   "input_path": "__notebook__.ipynb",
   "output_path": "__notebook__.ipynb",
   "parameters": {},
   "start_time": "2023-07-14T09:01:58.898885",
   "version": "2.4.0"
  }
 },
 "nbformat": 4,
 "nbformat_minor": 5
}
